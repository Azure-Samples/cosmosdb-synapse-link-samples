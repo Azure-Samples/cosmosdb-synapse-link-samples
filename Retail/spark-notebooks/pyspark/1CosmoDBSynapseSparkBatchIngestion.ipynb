{
  "cells": [
    {
      "cell_type": "markdown",
      "metadata": {},
      "source": [
        "# Batch ingestion into Azure Cosmos DB collection\n",
        "\n",
        "In this notebook, we'll \n",
        "\n",
        "+ Load the IoTDeviceInfo dataset from ADLS Gen2 to a dataframe\n",
        "+ Write the dataframe to the Azure Cosmos DB collection\n",
        "\n",
        ">**Did you know?**  [Azure Synapse Link for Azure Cosmos DB](https://review.docs.microsoft.com/en-us/azure/cosmos-db/synapse-link?branch=release-build-cosmosdb) is a hybrid transactional and analytical processing (HTAP) capability that enables you to run near real-time analytics over operational data in Azure Cosmos DB.\n",
        "&nbsp\n",
        "\n",
        ">**Did you know?**  [Azure Cosmos DB analytical store](https://review.docs.microsoft.com/en-us/azure/cosmos-db/analytical-store-introduction?branch=release-build-cosmosdb) is a fully isolated column store for enabling large scale analytics against operational data in your Azure Cosmos DB, without any impact to your transactional workloads.\n",
        "&nbsp\n",
        "\n",
        ">**Did you know?**  The Synapse workspace is attached to an ADLS Gen2 storage account and the files placed on the default storage account can be accessed using the relative path as below.\n",
        "&nbsp\n",
        "\n",
        "## 1. Using Synapse workspace, upload the csv files from the **RetailData** folder of this repo to your Azure Synapse ADLS Gen 2 account. Place them into the **RetailData** folder.\n",
        "\n",
        "<img src=\"https://cosmosnotebooksdata.blob.core.windows.net/notebookdata/upload.PNG\" alt=\"Upload\" width=\"75%\"/>\n",
        "\n",
        "\n",
        "## 2. Load the data from ADLS Gen2 to Python DataFrames\n"
      ],
      "attachments": {}
    },
    {
      "cell_type": "markdown",
      "metadata": {},
      "source": [],
      "attachments": {}
    },
    {
      "cell_type": "code",
      "execution_count": 5,
      "outputs": [],
      "metadata": {},
      "source": [
        "dfStoreDemoGraphics = (spark\n",
        "                .read\n",
        "                .csv(\"/RetailData/StoreDemoGraphics.csv\", header=True)\n",
        "              )\n",
        "\n",
        "dfRetailSales = (spark\n",
        "                .read\n",
        "                .csv(\"/RetailData/RetailSales.csv\", header=True)\n",
        "              )\n",
        "\n",
        "dfProduct = (spark\n",
        "                .read\n",
        "                .csv(\"/RetailData/Product.csv\", header=True)\n",
        "              )\n"
      ],
      "attachments": {}
    },
    {
      "cell_type": "markdown",
      "metadata": {},
      "source": [
        "## 3. Write the dataframe to the Azure Cosmos DB Collections\n",
        "\n",
        ">**Did you know?** The \"cosmos.oltp\" is the Spark format that enables connection to the Cosmos DB Transactional store.\n",
        "\n",
        ">**Did you know?** The ingestion to the Azure Cosmos DB collection is always performed through the Transactional store irrespective of whether the Analytical Store is enabled or not."
      ],
      "attachments": {}
    },
    {
      "cell_type": "code",
      "execution_count": 8,
      "outputs": [],
      "metadata": {},
      "source": [
        "dfStoreDemoGraphics.write\\\n",
        "            .format(\"cosmos.oltp\")\\\n",
        "            .option(\"spark.synapse.linkedService\", \"SurfaceSalesDB\")\\\n",
        "            .option(\"spark.cosmos.container\", \"StoreDemographics\")\\\n",
        "            .option(\"spark.cosmos.write.upsertEnabled\", \"true\")\\\n",
        "            .mode('append')\\\n",
        "            .save()\n",
        "\n",
        "dfRetailSales.write\\\n",
        "            .format(\"cosmos.oltp\")\\\n",
        "            .option(\"spark.synapse.linkedService\", \"SurfaceSalesDB\")\\\n",
        "            .option(\"spark.cosmos.container\", \"RetailSales\")\\\n",
        "            .option(\"spark.cosmos.write.upsertEnabled\", \"true\")\\\n",
        "            .mode('append')\\\n",
        "            .save()\n",
        "\n",
        "dfProduct.write\\\n",
        "            .format(\"cosmos.oltp\")\\\n",
        "            .option(\"spark.synapse.linkedService\", \"SurfaceSalesDB\")\\\n",
        "            .option(\"spark.cosmos.container\", \"Product\")\\\n",
        "            .option(\"spark.cosmos.write.upsertEnabled\", \"true\")\\\n",
        "            .mode('append')\\\n",
        "            .save()     \n"
      ],
      "attachments": {}
    }
  ],
  "metadata": {
    "saveOutput": true,
    "language_info": {
      "name": "python"
    }
  },
  "nbformat": 4,
  "nbformat_minor": 2
}